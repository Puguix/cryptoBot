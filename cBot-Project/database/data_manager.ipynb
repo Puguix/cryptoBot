{
 "cells": [
  {
   "cell_type": "code",
   "execution_count": 1,
   "metadata": {},
   "outputs": [],
   "source": [
    "import sys\n",
    "sys.path.append( '../utilities' )\n",
    "from data_engine import DataEngine\n",
    "import pandas as pd\n",
    "import ccxt\n",
    "import json\n",
    "f = open('./pair_list.json',)\n",
    "pair_json = json.load(f)\n",
    "f.close()"
   ]
  },
  {
   "cell_type": "markdown",
   "metadata": {},
   "source": [
    "<h1>Inspect data from api or database</h1>"
   ]
  },
  {
   "cell_type": "code",
   "execution_count": 3,
   "metadata": {},
   "outputs": [
    {
     "name": "stdout",
     "output_type": "stream",
     "text": [
      "Successfully load 226 candles for BTCUSDT\n"
     ]
    },
    {
     "data": {
      "text/html": [
       "<div>\n",
       "<style scoped>\n",
       "    .dataframe tbody tr th:only-of-type {\n",
       "        vertical-align: middle;\n",
       "    }\n",
       "\n",
       "    .dataframe tbody tr th {\n",
       "        vertical-align: top;\n",
       "    }\n",
       "\n",
       "    .dataframe thead th {\n",
       "        text-align: right;\n",
       "    }\n",
       "</style>\n",
       "<table border=\"1\" class=\"dataframe\">\n",
       "  <thead>\n",
       "    <tr style=\"text-align: right;\">\n",
       "      <th></th>\n",
       "      <th>open</th>\n",
       "      <th>high</th>\n",
       "      <th>low</th>\n",
       "      <th>close</th>\n",
       "      <th>volume</th>\n",
       "    </tr>\n",
       "    <tr>\n",
       "      <th>timestamp</th>\n",
       "      <th></th>\n",
       "      <th></th>\n",
       "      <th></th>\n",
       "      <th></th>\n",
       "      <th></th>\n",
       "    </tr>\n",
       "  </thead>\n",
       "  <tbody>\n",
       "    <tr>\n",
       "      <th>2017-08-14</th>\n",
       "      <td>4261.48</td>\n",
       "      <td>4485.39</td>\n",
       "      <td>3850.00</td>\n",
       "      <td>4086.29</td>\n",
       "      <td>2843.431426</td>\n",
       "    </tr>\n",
       "    <tr>\n",
       "      <th>2017-08-21</th>\n",
       "      <td>4069.13</td>\n",
       "      <td>4453.91</td>\n",
       "      <td>3400.00</td>\n",
       "      <td>4310.01</td>\n",
       "      <td>4599.396629</td>\n",
       "    </tr>\n",
       "    <tr>\n",
       "      <th>2017-08-28</th>\n",
       "      <td>4310.01</td>\n",
       "      <td>4939.19</td>\n",
       "      <td>4124.54</td>\n",
       "      <td>4509.08</td>\n",
       "      <td>4753.843376</td>\n",
       "    </tr>\n",
       "    <tr>\n",
       "      <th>2017-09-04</th>\n",
       "      <td>4505.00</td>\n",
       "      <td>4788.59</td>\n",
       "      <td>3603.00</td>\n",
       "      <td>4130.37</td>\n",
       "      <td>6382.787745</td>\n",
       "    </tr>\n",
       "    <tr>\n",
       "      <th>2017-09-11</th>\n",
       "      <td>4153.62</td>\n",
       "      <td>4394.59</td>\n",
       "      <td>2817.00</td>\n",
       "      <td>3699.99</td>\n",
       "      <td>8106.705127</td>\n",
       "    </tr>\n",
       "    <tr>\n",
       "      <th>...</th>\n",
       "      <td>...</td>\n",
       "      <td>...</td>\n",
       "      <td>...</td>\n",
       "      <td>...</td>\n",
       "      <td>...</td>\n",
       "    </tr>\n",
       "    <tr>\n",
       "      <th>2021-11-08</th>\n",
       "      <td>63273.58</td>\n",
       "      <td>69000.00</td>\n",
       "      <td>62278.00</td>\n",
       "      <td>65519.10</td>\n",
       "      <td>294213.112708</td>\n",
       "    </tr>\n",
       "    <tr>\n",
       "      <th>2021-11-15</th>\n",
       "      <td>65519.11</td>\n",
       "      <td>66401.82</td>\n",
       "      <td>55600.00</td>\n",
       "      <td>58622.02</td>\n",
       "      <td>340150.616760</td>\n",
       "    </tr>\n",
       "    <tr>\n",
       "      <th>2021-11-22</th>\n",
       "      <td>58617.70</td>\n",
       "      <td>59444.00</td>\n",
       "      <td>53256.64</td>\n",
       "      <td>57274.88</td>\n",
       "      <td>315216.319430</td>\n",
       "    </tr>\n",
       "    <tr>\n",
       "      <th>2021-11-29</th>\n",
       "      <td>57274.89</td>\n",
       "      <td>59176.99</td>\n",
       "      <td>42000.30</td>\n",
       "      <td>49396.33</td>\n",
       "      <td>390528.912488</td>\n",
       "    </tr>\n",
       "    <tr>\n",
       "      <th>2021-12-06</th>\n",
       "      <td>49396.32</td>\n",
       "      <td>51936.33</td>\n",
       "      <td>47100.00</td>\n",
       "      <td>49126.59</td>\n",
       "      <td>150140.688500</td>\n",
       "    </tr>\n",
       "  </tbody>\n",
       "</table>\n",
       "<p>226 rows × 5 columns</p>\n",
       "</div>"
      ],
      "text/plain": [
       "                open      high       low     close         volume\n",
       "timestamp                                                        \n",
       "2017-08-14   4261.48   4485.39   3850.00   4086.29    2843.431426\n",
       "2017-08-21   4069.13   4453.91   3400.00   4310.01    4599.396629\n",
       "2017-08-28   4310.01   4939.19   4124.54   4509.08    4753.843376\n",
       "2017-09-04   4505.00   4788.59   3603.00   4130.37    6382.787745\n",
       "2017-09-11   4153.62   4394.59   2817.00   3699.99    8106.705127\n",
       "...              ...       ...       ...       ...            ...\n",
       "2021-11-08  63273.58  69000.00  62278.00  65519.10  294213.112708\n",
       "2021-11-15  65519.11  66401.82  55600.00  58622.02  340150.616760\n",
       "2021-11-22  58617.70  59444.00  53256.64  57274.88  315216.319430\n",
       "2021-11-29  57274.89  59176.99  42000.30  49396.33  390528.912488\n",
       "2021-12-06  49396.32  51936.33  47100.00  49126.59  150140.688500\n",
       "\n",
       "[226 rows x 5 columns]"
      ]
     },
     "execution_count": 3,
     "metadata": {},
     "output_type": "execute_result"
    }
   ],
   "source": [
    "# -- Data variable --\n",
    "pair_symbol = 'BTC/USDT'\n",
    "timeframe = '1w'\n",
    "start_date = '2017-01-01T00:00:00'\n",
    "\n",
    "# -- Instance class --\n",
    "dataEngine = DataEngine(session=ccxt.binance())\n",
    "\n",
    "# -- Check from exchange API --\n",
    "# df =dataEngine.get_historical_from_api(pair_symbol, timeframe, start_date)\n",
    "\n",
    "# -- Check from local database --\n",
    "df =dataEngine.get_historical_from_db(pair_symbol, timeframe, start_date)\n",
    "\n",
    "df"
   ]
  },
  {
   "cell_type": "markdown",
   "metadata": {},
   "source": [
    "<h1>Download data from api to local database</h1>"
   ]
  },
  {
   "cell_type": "code",
   "execution_count": 2,
   "metadata": {},
   "outputs": [
    {
     "name": "stdout",
     "output_type": "stream",
     "text": [
      "BTC/USDT 226 Candles 1w load since the : 2017-08-14 00:00:00 to : 2021-12-06 00:00:00 in ../database/Binance/1w/BTCUSDT.p\n",
      "ETH/USDT 226 Candles 1w load since the : 2017-08-14 00:00:00 to : 2021-12-06 00:00:00 in ../database/Binance/1w/ETHUSDT.p\n",
      "BNB/USDT 214 Candles 1w load since the : 2017-11-06 00:00:00 to : 2021-12-06 00:00:00 in ../database/Binance/1w/BNBUSDT.p\n",
      "SOL/USDT 70 Candles 1w load since the : 2020-08-10 00:00:00 to : 2021-12-06 00:00:00 in ../database/Binance/1w/SOLUSDT.p\n",
      "ADA/USDT 191 Candles 1w load since the : 2018-04-16 00:00:00 to : 2021-12-06 00:00:00 in ../database/Binance/1w/ADAUSDT.p\n"
     ]
    }
   ],
   "source": [
    "# -- Data variable --\n",
    "pair_symbols = pair_json['binanceTop5']\n",
    "timeframes = ['1w']\n",
    "start_date = '2017-01-01T00:00:00'\n",
    "\n",
    "# -- Instance class --\n",
    "dataEngine = DataEngine(session=ccxt.binance())\n",
    "\n",
    "# -- Download data from data variable --\n",
    "dataEngine.download_data(pair_symbols, timeframes, start_date)\n"
   ]
  },
  {
   "cell_type": "markdown",
   "metadata": {},
   "source": [
    "<h1>Update data from local database with new data from api</h1>"
   ]
  },
  {
   "cell_type": "code",
   "execution_count": 2,
   "metadata": {},
   "outputs": [
    {
     "name": "stdout",
     "output_type": "stream",
     "text": [
      "BTC/USD 269 New candles 1h load since the : 2019-07-21 13:00:00 in ../database/FTX/1h/BTCUSD.p\n",
      "ETH/USD 269 New candles 1h load since the : 2019-09-14 21:00:00 in ../database/FTX/1h/ETHUSD.p\n",
      "BNB/USD 269 New candles 1h load since the : 2019-11-28 15:00:00 in ../database/FTX/1h/BNBUSD.p\n",
      "LTC/USD 269 New candles 1h load since the : 2020-03-10 00:00:00 in ../database/FTX/1h/LTCUSD.p\n",
      "DOGE/USD 269 New candles 1h load since the : 2021-01-13 04:00:00 in ../database/FTX/1h/DOGEUSD.p\n",
      "XRP/USD 269 New candles 1h load since the : 2020-07-19 13:00:00 in ../database/FTX/1h/XRPUSD.p\n",
      "SOL/USD 269 New candles 1h load since the : 2020-07-27 00:00:00 in ../database/FTX/1h/SOLUSD.p\n",
      "SHIB/USD 269 New candles 1h load since the : 2021-05-10 13:00:00 in ../database/FTX/1h/SHIBUSD.p\n",
      "LINK/USD 269 New candles 1h load since the : 2020-04-21 02:00:00 in ../database/FTX/1h/LINKUSD.p\n",
      "UNI/USD 269 New candles 1h load since the : 2020-09-17 03:00:00 in ../database/FTX/1h/UNIUSD.p\n",
      "MATIC/USD 269 New candles 1h load since the : 2020-11-09 14:00:00 in ../database/FTX/1h/MATICUSD.p\n",
      "AXS/USD 269 New candles 1h load since the : 2021-04-06 10:00:00 in ../database/FTX/1h/AXSUSD.p\n",
      "CRO/USD 269 New candles 1h load since the : 2021-03-24 10:00:00 in ../database/FTX/1h/CROUSD.p\n",
      "FTT/USD 269 New candles 1h load since the : 2019-07-29 14:00:00 in ../database/FTX/1h/FTTUSD.p\n",
      "TRX/USD 269 New candles 1h load since the : 2020-04-27 11:00:00 in ../database/FTX/1h/TRXUSD.p\n",
      "BCH/USD 269 New candles 1h load since the : 2020-03-10 00:00:00 in ../database/FTX/1h/BCHUSD.p\n",
      "FTM/USD 269 New candles 1h load since the : 2021-02-23 04:00:00 in ../database/FTX/1h/FTMUSD.p\n",
      "GRT/USD 269 New candles 1h load since the : 2020-12-19 04:00:00 in ../database/FTX/1h/GRTUSD.p\n",
      "AAVE/USD 269 New candles 1h load since the : 2020-10-12 02:00:00 in ../database/FTX/1h/AAVEUSD.p\n",
      "OMG/USD 269 New candles 1h load since the : 2020-11-09 14:00:00 in ../database/FTX/1h/OMGUSD.p\n",
      "LRC/USD 269 New candles 1h load since the : 2021-03-11 09:00:00 in ../database/FTX/1h/LRCUSD.p\n",
      "SUSHI/USD 269 New candles 1h load since the : 2020-08-31 21:00:00 in ../database/FTX/1h/SUSHIUSD.p\n",
      "MANA/USD 269 New candles 1h load since the : 2021-09-13 10:00:00 in ../database/FTX/1h/MANAUSD.p\n",
      "SRM/USD 269 New candles 1h load since the : 2020-08-11 13:00:00 in ../database/FTX/1h/SRMUSD.p\n",
      "RUNE/USD 269 New candles 1h load since the : 2020-07-20 07:00:00 in ../database/FTX/1h/RUNEUSD.p\n",
      "SAND/USD 269 New candles 1h load since the : 2021-03-23 12:00:00 in ../database/FTX/1h/SANDUSD.p\n",
      "CHZ/USD 269 New candles 1h load since the : 2020-10-20 03:00:00 in ../database/FTX/1h/CHZUSD.p\n",
      "CRV/USD 269 New candles 1h load since the : 2021-01-08 06:00:00 in ../database/FTX/1h/CRVUSD.p\n",
      "RAY/USD 269 New candles 1h load since the : 2021-02-21 15:00:00 in ../database/FTX/1h/RAYUSD.p\n"
     ]
    }
   ],
   "source": [
    "# -- Data variable --\n",
    "pair_symbols = pair_json['ftxClassicPair']\n",
    "timeframes = ['1h']\n",
    "\n",
    "# -- Instance class --\n",
    "dataEngine = DataEngine(session=ccxt.ftx())\n",
    "\n",
    "# -- Download data from data variable --\n",
    "dataEngine.update_data(pair_symbols, timeframes)"
   ]
  }
 ],
 "metadata": {
  "interpreter": {
   "hash": "b99de858d01b8bcc47614726909171e040cc7bf90a13719c5d6ce860f919fb18"
  },
  "kernelspec": {
   "display_name": "Python 3.9.0 64-bit ('.venv': venv)",
   "language": "python",
   "name": "python3"
  },
  "language_info": {
   "codemirror_mode": {
    "name": "ipython",
    "version": 3
   },
   "file_extension": ".py",
   "mimetype": "text/x-python",
   "name": "python",
   "nbconvert_exporter": "python",
   "pygments_lexer": "ipython3",
   "version": "3.9.0"
  },
  "orig_nbformat": 4
 },
 "nbformat": 4,
 "nbformat_minor": 2
}
