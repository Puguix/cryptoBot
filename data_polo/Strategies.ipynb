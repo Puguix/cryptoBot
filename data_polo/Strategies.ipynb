{
 "cells": [
  {
   "cell_type": "markdown",
   "metadata": {},
   "source": [
    "<h1> Alligator Strategy </h1>\n",
    "\n",
    "Results: 19 787$ from 2017 and 678$ from 2021 on BTC on H1"
   ]
  },
  {
   "cell_type": "code",
   "execution_count": null,
   "metadata": {},
   "outputs": [],
   "source": [
    "# - - Indicators - -\n",
    "\n",
    "# -- Exponential Moving Average --\n",
    "df['EMA1']= ta.trend.ema_indicator(close=df['close'], window=7)\n",
    "df['EMA2']= ta.trend.ema_indicator(close=df['close'], window=30)\n",
    "df['EMA3']= ta.trend.ema_indicator(close=df['close'], window=50)\n",
    "df['EMA4']= ta.trend.ema_indicator(close=df['close'], window=100)\n",
    "df['EMA5']= ta.trend.ema_indicator(close=df['close'], window=121)\n",
    "df['EMA6']= ta.trend.ema_indicator(close=df['close'], window=200)\n",
    "\n",
    "# -- Stochasitc RSI --\n",
    "df['STOCH_RSI'] = ta.momentum.stochrsi(close=df['close'], window=14, smooth1=3, smooth2=3)\n",
    "\n",
    "\n",
    "# - - Open and close conditions - -\n",
    "\n",
    "# -- Condition to open Market LONG --\n",
    "def openLongCondition(row, previousRow):\n",
    "    if (row['EMA1'] > row['EMA2'] \n",
    "    and row['EMA2'] > row['EMA3'] \n",
    "    and row['EMA3'] > row['EMA4'] \n",
    "    and row['EMA4'] > row['EMA5'] \n",
    "    and row['EMA5'] > row['EMA6'] \n",
    "    and row['STOCH_RSI'] < 0.82):\n",
    "        return True\n",
    "    else:\n",
    "        return False\n",
    "\n",
    "# -- Condition to close Market LONG --\n",
    "def closeLongCondition(row, previousRow):\n",
    "    if row['EMA6'] > row['EMA1']:\n",
    "        return True\n",
    "    else:\n",
    "        return False\n",
    "\n",
    "# -- Condition to open Market SHORT --\n",
    "def openShortCondition(row, previousRow):\n",
    "    if ( row['EMA6'] > row['EMA5'] \n",
    "    and row['EMA5'] > row['EMA4'] \n",
    "    and row['EMA4'] > row['EMA3'] \n",
    "    and row['EMA3'] > row['EMA2'] \n",
    "    and row['EMA2'] > row['EMA1'] \n",
    "    and row['STOCH_RSI'] > 0.2 ):\n",
    "        return True\n",
    "    else:\n",
    "        return False\n",
    "\n",
    "# -- Condition to close Market SHORT --\n",
    "def closeShortCondition(row, previousRow):\n",
    "    if row['EMA1'] > row['EMA6']:\n",
    "        return True\n",
    "    else:\n",
    "        return False"
   ]
  },
  {
   "cell_type": "markdown",
   "metadata": {},
   "source": [
    "<h1> Super Trend Strategy </h1>\n",
    "\n",
    "Results: 16 436$ from 2017 and 734$ from 2021 on BTC on H1"
   ]
  },
  {
   "cell_type": "code",
   "execution_count": null,
   "metadata": {},
   "outputs": [],
   "source": [
    "# - - Indicators - -\n",
    "\n",
    "df['EMA90']=ta.trend.ema_indicator(df['close'], 90)\n",
    "df['STOCH_RSI']=ta.momentum.stochrsi(df['close'])\n",
    "df['EMA50']=ta.trend.sma_indicator(df['close'], 120)\n",
    "\n",
    "\n",
    "ST_length = 20\n",
    "ST_multiplier = 3.0\n",
    "superTrend = pda.supertrend(df['high'], df['low'], df['close'], length=ST_length, multiplier=ST_multiplier)\n",
    "df['SUPER_TREND'] = superTrend['SUPERT_'+str(ST_length)+\"_\"+str(ST_multiplier)]\n",
    "df['SUPER_TREND_DIRECTION1'] = superTrend['SUPERTd_'+str(ST_length)+\"_\"+str(ST_multiplier)]\n",
    "\n",
    "ST_length = 20\n",
    "ST_multiplier = 4.0\n",
    "superTrend = pda.supertrend(df['high'], df['low'], df['close'], length=ST_length, multiplier=ST_multiplier)\n",
    "df['SUPER_TREND'] = superTrend['SUPERT_'+str(ST_length)+\"_\"+str(ST_multiplier)]\n",
    "df['SUPER_TREND_DIRECTION2'] = superTrend['SUPERTd_'+str(ST_length)+\"_\"+str(ST_multiplier)]\n",
    "\n",
    "ST_length = 40\n",
    "ST_multiplier = 8.0\n",
    "superTrend = pda.supertrend(df['high'], df['low'], df['close'], length=ST_length, multiplier=ST_multiplier)\n",
    "df['SUPER_TREND'] = superTrend['SUPERT_'+str(ST_length)+\"_\"+str(ST_multiplier)]\n",
    "df['SUPER_TREND_DIRECTION3'] = superTrend['SUPERTd_'+str(ST_length)+\"_\"+str(ST_multiplier)]\n",
    "\n",
    "\n",
    "# - - Open and close conditions \n",
    "\n",
    "def openLongCondition(row, previousRow):\n",
    "    return row['SUPER_TREND_DIRECTION1']+row['SUPER_TREND_DIRECTION2']+row['SUPER_TREND_DIRECTION3'] >= 1 and row['STOCH_RSI'] < 0.8\n",
    "\n",
    "def closeLongCondition(row, previousRow):\n",
    "    return row['SUPER_TREND_DIRECTION1']+row['SUPER_TREND_DIRECTION2']+row['SUPER_TREND_DIRECTION3'] < 1 and row['STOCH_RSI'] > 0.2\n",
    "\n",
    "# no shorts with this strategy\n",
    "def openShortCondition(row, previousRow):\n",
    "    return False\n",
    "\n",
    "def closeShortCondition(row, previousRow):\n",
    "    return False\n",
    "\n"
   ]
  },
  {
   "cell_type": "markdown",
   "metadata": {},
   "source": [
    "<h1> Cross EMA + RSI Strategy </h1>\n",
    "\n",
    "Results: 24 670$ from 2017 and 938$ from 2021 on BTC on H1"
   ]
  },
  {
   "cell_type": "code",
   "execution_count": 1,
   "metadata": {},
   "outputs": [],
   "source": [
    "# - - Indicators - - \n",
    "\n",
    "df['EMA28']=ta.trend.ema_indicator(df['close'], 28)\n",
    "df['EMA48']=ta.trend.ema_indicator(df['close'], 48)\n",
    "df['STOCH_RSI']=ta.momentum.stochrsi(df['close'])\n",
    "\n",
    "# - - Open and close conditions\n",
    "\n",
    "def openLongCondition(row, previousRow):\n",
    "    return row['EMA28'] > row['EMA48'] and row['STOCH_RSI'] < 0.8\n",
    "\n",
    "def closeLongCondition(row, previousRow):\n",
    "    return row['EMA28'] < row['EMA48'] and row['STOCH_RSI'] > 0.2\n",
    "\n",
    "# no shorts with this strategy\n",
    "def openShortCondition(row, previousRow):\n",
    "    return False\n",
    "\n",
    "def closeShortCondition(row, previousRow):\n",
    "    return False"
   ]
  },
  {
   "cell_type": "markdown",
   "metadata": {},
   "source": [
    "<h1> IchiCloud + Stoch + RSI </h1>\n",
    "\n",
    "Result: $ from 2017 and $ from 2021 on BTC on H1"
   ]
  },
  {
   "cell_type": "code",
   "execution_count": null,
   "metadata": {},
   "outputs": [],
   "source": [
    "# - - Indicators - -\n",
    "\n",
    "\n",
    "df['EMA50']=ta.trend.ema_indicator(df['close'], 50)\n",
    "df['STOCH_RSI']=ta.momentum.stochrsi(df['close'])\n",
    "df['KIJUN'] = ta.trend.ichimoku_base_line(df['high'],df['low'])\n",
    "df['TENKAN'] = ta.trend.ichimoku_conversion_line(df['high'],df['low'])\n",
    "df['SSA'] = ta.trend.ichimoku_a(df['high'],df['low'],3,38).shift(periods=48)\n",
    "df['SSB'] = ta.trend.ichimoku_b(df['high'],df['low'],38,46).shift(periods=48)\n",
    "\n",
    "\n",
    "# - - Open and close conditions - - \n",
    "\n",
    "def openLongCondition(row, previousRow):\n",
    "    return row['close']>row['SSA'] and row['close']>row['SSB'] and row['STOCH_RSI'] < 0.8 and row['close']>row['EMA50']\n",
    "\n",
    "def closeLongCondition(row, previousRow):\n",
    "    return (row['close'] < row['SSA'] or row['close'] < row['SSB']) and row['STOCH_RSI'] > 0.2\n",
    "\n",
    "# no shorts with this strategy\n",
    "def openShortCondition(row, previousRow):\n",
    "    return False\n",
    "def closeLongCondition(row, previousRow):\n",
    "    return False"
   ]
  },
  {
   "cell_type": "markdown",
   "metadata": {},
   "source": [
    "<h1> Trix Strategy </h1>\n",
    "\n",
    "Results: 682 459$ from 2017 and 1 344$ from 2021 on ETH on H1\n",
    "\n",
    "With shorts: 9 417 705$ from 2017 and 852$ from 2021 on ETH on H1"
   ]
  },
  {
   "cell_type": "code",
   "execution_count": null,
   "metadata": {},
   "outputs": [],
   "source": [
    "# - - Indicators - - \n",
    "\n",
    "df['EMA200'] = ta.trend.ema_indicator(close=df['close'], window=200)\n",
    "# -- Trix Indicator --\n",
    "trixLength = 9\n",
    "trixSignal = 21\n",
    "df['TRIX'] = ta.trend.ema_indicator(ta.trend.ema_indicator(ta.trend.ema_indicator(close=df['close'], window=trixLength), window=trixLength), window=trixLength)\n",
    "df['TRIX_PCT'] = df[\"TRIX\"].pct_change()*100\n",
    "df['TRIX_SIGNAL'] = ta.trend.sma_indicator(df['TRIX_PCT'],trixSignal)\n",
    "df['TRIX_HISTO'] = df['TRIX_PCT'] - df['TRIX_SIGNAL']\n",
    "\n",
    "# -- Stochasitc RSI --\n",
    "df['STOCH_RSI'] = ta.momentum.stochrsi(close=df['close'], window=14, smooth1=3, smooth2=3)\n",
    "\n",
    "# - - Open and close conditions - -\n",
    "\n",
    "def openLongCondition(row, previousRow):\n",
    "  return row['TRIX_HISTO'] > 0 and row['STOCH_RSI'] < 0.8\n",
    "\n",
    "def closeLongCondition(row, previousRow):\n",
    "  return row['TRIX_HISTO'] < 0 and row['STOCH_RSI'] > 0.2\n",
    "\n",
    "def openShortCondition(row, previousRow):\n",
    "  return False\n",
    "def closeShortCondition(row, previousRow):\n",
    "  return False"
   ]
  }
 ],
 "metadata": {
  "kernelspec": {
   "display_name": "Python 3.10.6 64-bit",
   "language": "python",
   "name": "python3"
  },
  "language_info": {
   "codemirror_mode": {
    "name": "ipython",
    "version": 3
   },
   "file_extension": ".py",
   "mimetype": "text/x-python",
   "name": "python",
   "nbconvert_exporter": "python",
   "pygments_lexer": "ipython3",
   "version": "3.10.6"
  },
  "orig_nbformat": 4,
  "vscode": {
   "interpreter": {
    "hash": "e7370f93d1d0cde622a1f8e1c04877d8463912d04d973331ad4851f04de6915a"
   }
  }
 },
 "nbformat": 4,
 "nbformat_minor": 2
}
