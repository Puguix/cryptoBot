{
  "cells": [
    {
      "cell_type": "markdown",
      "metadata": {
        "id": "vL2r-6X3k-PU"
      },
      "source": [
        "<h1>Load data</h1>"
      ]
    },
    {
      "cell_type": "code",
      "execution_count": 31,
      "metadata": {
        "colab": {
          "base_uri": "https://localhost:8080/"
        },
        "id": "Wf_ab2Fjk-PY",
        "outputId": "07f05b84-72c6-45bc-d2f0-6f9b22cc7074"
      },
      "outputs": [
        {
          "name": "stdout",
          "output_type": "stream",
          "text": [
            "Data loaded 100%\n"
          ]
        },
        {
          "name": "stderr",
          "output_type": "stream",
          "text": [
            "/home/puguix/.local/lib/python3.10/site-packages/pkg_resources/__init__.py:123: PkgResourcesDeprecationWarning: 0.1.43ubuntu1 is an invalid version and will not be supported in a future release\n",
            "  warnings.warn(\n",
            "/home/puguix/.local/lib/python3.10/site-packages/pkg_resources/__init__.py:123: PkgResourcesDeprecationWarning: 1.1build1 is an invalid version and will not be supported in a future release\n",
            "  warnings.warn(\n"
          ]
        }
      ],
      "source": [
        "# -- Import --\n",
        "import pandas as pd\n",
        "import pandas_ta as pda\n",
        "from get_data import get_historical_from_db\n",
        "import ta\n",
        "import matplotlib.pyplot as plt\n",
        "import numpy as np\n",
        "\n",
        "# - - Load data from database --\n",
        "df = get_historical_from_db(\"Binance\",\"BTC/USDT\",\"15m\")\n",
        "\n",
        "print(\"Data loaded 100%\")\n"
      ]
    },
    {
      "cell_type": "markdown",
      "metadata": {
        "id": "R6_21o53k-Pb"
      },
      "source": [
        "<h1>Define indicators</h1>"
      ]
    },
    {
      "cell_type": "code",
      "execution_count": 39,
      "metadata": {
        "colab": {
          "base_uri": "https://localhost:8080/",
          "height": 467
        },
        "id": "dSZNGfBgk-Pc",
        "outputId": "925d1836-6d90-4e77-d3a7-6532633f2895"
      },
      "outputs": [
        {
          "name": "stdout",
          "output_type": "stream",
          "text": [
            "Indicators loaded 100%\n"
          ]
        },
        {
          "name": "stderr",
          "output_type": "stream",
          "text": [
            "/tmp/ipykernel_53173/1469590891.py:2: FutureWarning: In a future version of pandas all arguments of DataFrame.drop except for the argument 'labels' will be keyword-only.\n",
            "  df.drop(df.columns.difference(['open','high','low','close','volume']), 1, inplace=True)\n"
          ]
        }
      ],
      "source": [
        "# -- Drop all columns we do not need --\n",
        "df.drop(df.columns.difference(['open','high','low','close','volume']), 1, inplace=True)\n",
        "\n",
        "# - - Define indicators here - -\n",
        "\n",
        "df['EMA28']=ta.trend.ema_indicator(df['close'], 28)\n",
        "df['EMA48']=ta.trend.ema_indicator(df['close'], 48)\n",
        "df['STOCH_RSI']=ta.momentum.stochrsi(df['close'])\n",
        "\n",
        "print(\"Indicators loaded 100%\")\n",
        "\n",
        "# -- Uncomment the line below if you want to check your dataset with indicators --\n",
        "#df"
      ]
    },
    {
      "cell_type": "markdown",
      "metadata": {
        "id": "pUt8RHMok-Pc"
      },
      "source": [
        "<h1>RUN the BackTest</h1>"
      ]
    },
    {
      "cell_type": "code",
      "execution_count": 41,
      "metadata": {
        "colab": {
          "base_uri": "https://localhost:8080/",
          "height": 467
        },
        "id": "qA6zFOOok-Pd",
        "outputId": "4dd14a55-231e-421e-9cf4-a2b1794b00cb"
      },
      "outputs": [
        {
          "name": "stdout",
          "output_type": "stream",
          "text": [
            "/!\\ There is no SHORT Trades in your BackTest, maybe a problem...\n",
            "/!\\ There is no good SHORT Trades in your BackTest, maybe a problem...\n",
            "/!\\ There is no bad SHORT Trades in your BackTest, maybe a problem...\n",
            "BackTest finished, final wallet : 938.3647231260624 $\n"
          ]
        }
      ],
      "source": [
        "dfTest = df.copy()\n",
        "\n",
        "# -- If you want to run your BackTest on a specific period, uncomment the line below --\n",
        "dfTest = df['2021-01-18':]\n",
        "\n",
        "# -- Definition of dt, that will be the dataset to do your trades analyses --\n",
        "dt = None\n",
        "dt = pd.DataFrame(columns=['date', 'position', 'reason',\n",
        "                           'price', 'frais', 'wallet', 'drawBack'])\n",
        "\n",
        "# -- You can change variables below --\n",
        "leverage = 1\n",
        "wallet = 1000\n",
        "makerFee = 0.0002\n",
        "takerFee = 0.0005\n",
        "\n",
        "# -- Do not touch these values --\n",
        "initalWallet = wallet\n",
        "lastAth = wallet\n",
        "previousRow = dfTest.iloc[0]\n",
        "stopLoss = 0\n",
        "takeProfit = 500000\n",
        "orderInProgress = ''\n",
        "longIniPrice = 0\n",
        "shortIniPrice = 0\n",
        "longLiquidationPrice = 500000\n",
        "shortLiquidationPrice = 0\n",
        "\n",
        "# - - Write open and close conditions here - - \n",
        "\n",
        "def openLongCondition(row, previousRow):\n",
        "    return row['EMA28'] > row['EMA48'] and row['STOCH_RSI'] < 0.8\n",
        "\n",
        "def closeLongCondition(row, previousRow):\n",
        "    return row['EMA28'] < row['EMA48'] and row['STOCH_RSI'] > 0.2\n",
        "\n",
        "# no shorts with this strategy\n",
        "def openShortCondition(row, previousRow):\n",
        "    return False\n",
        "\n",
        "def closeShortCondition(row, previousRow):\n",
        "    return False\n",
        "\n",
        "# -- Iteration on all your price dataset (df) --\n",
        "for index, row in dfTest.iterrows():\n",
        "\n",
        "    # -- If there is an order in progress --\n",
        "    if orderInProgress != '':\n",
        "        # -- Check if there is a LONG order in progress --\n",
        "        if orderInProgress == 'LONG':\n",
        "            # -- Check Liquidation --\n",
        "            if row['low'] < longLiquidationPrice:\n",
        "                print('/!\\ YOUR LONG HAVE BEEN LIQUIDATED the',index)\n",
        "                break\n",
        "            \n",
        "            # -- Check If you have to close the LONG --\n",
        "            if closeLongCondition(row, previousRow) == True:\n",
        "                orderInProgress = ''\n",
        "                closePrice = row['close']\n",
        "                closePriceWithFee = row['close'] - takerFee * row['close']\n",
        "                pr_change = (closePriceWithFee - longIniPrice) / longIniPrice\n",
        "                wallet = wallet + wallet*pr_change*leverage\n",
        "\n",
        "                # -- You can uncomment the line below if you want to see logs --\n",
        "                # print('Close LONG at',closePrice,\"the\", index, '| wallet :', wallet,\n",
        "                #       '| result :', pr_change*100*leverage)\n",
        "\n",
        "\n",
        "                # -- Check if your wallet hit a new ATH to know the drawBack --\n",
        "                if wallet > lastAth:\n",
        "                    lastAth = wallet\n",
        "                \n",
        "                # -- Add the trade to DT to analyse it later --\n",
        "                myrow = {'date': index, 'position': \"LONG\", 'reason': 'Close Long Market', 'price': closePrice,\n",
        "                        'frais': takerFee * wallet * leverage, 'wallet': wallet, 'drawBack': (wallet-lastAth)/lastAth}\n",
        "                #dt = dt.append(myrow, ignore_index=True)\n",
        "            dt = pd.concat([dt,pd.DataFrame(myrow, index=[0])], ignore_index=True)\n",
        "\n",
        "        # -- Check if there is a SHORT order in progress --\n",
        "        elif orderInProgress == 'SHORT':\n",
        "            # -- Check Liquidation --\n",
        "            if row['high'] > shortLiquidationPrice:\n",
        "                print('/!\\ YOUR SHORT HAVE BEEN LIQUIDATED the',index)\n",
        "                break\n",
        "\n",
        "            # -- Check If you have to close the SHORT --\n",
        "            if closeShortCondition(row, previousRow) == True:\n",
        "                orderInProgress = ''\n",
        "                closePrice = row['close']\n",
        "                closePriceWithFee = row['close'] + takerFee * row['close']\n",
        "                pr_change = -(closePriceWithFee - shortIniPrice) / shortIniPrice\n",
        "                wallet = wallet + wallet*pr_change*leverage\n",
        "\n",
        "                # -- You can uncomment the line below if you want to see logs --\n",
        "                # print('Close SHORT at',closePrice,\"the\", index, '| wallet :', wallet,\n",
        "                #       '| result :', pr_change*100*leverage)\n",
        "\n",
        "                # -- Check if your wallet hit a new ATH to know the drawBack --\n",
        "                if wallet > lastAth:\n",
        "                    lastAth = wallet\n",
        "\n",
        "                # -- Add the trade to DT to analyse it later --\n",
        "                myrow = {'date': index, 'position': \"SHORT\", 'reason': 'Close Short Market', 'price': closePrice,\n",
        "                        'frais': takerFee * wallet * leverage, 'wallet': wallet, 'drawBack': (wallet-lastAth)/lastAth}\n",
        "                #dt = dt.append(myrow, ignore_index=True)\n",
        "            dt = pd.concat([dt,pd.DataFrame(myrow, index=[0])], ignore_index=True)\n",
        "\n",
        "    # -- If there is NO order in progress --\n",
        "    if orderInProgress == '':\n",
        "        # -- Check If you have to open a LONG --\n",
        "        if openLongCondition(row, previousRow) == True:\n",
        "            orderInProgress = 'LONG'\n",
        "            closePrice = row['close']\n",
        "            longIniPrice = row['close'] + takerFee * row['close']\n",
        "            tokenAmount = (wallet * leverage) / row['close']\n",
        "            longLiquidationPrice = longIniPrice - (wallet/tokenAmount)\n",
        "\n",
        "            # -- You can uncomment the line below if you want to see logs --\n",
        "            # print('Open LONG at', closePrice, '$ the', index, '| Liquidation price :', longLiquidationPrice)\n",
        "\n",
        "            # -- Add the trade to DT to analyse it later --\n",
        "            myrow = {'date': index, 'position': \"Open Long\", 'reason': 'Open Long Market', 'price': closePrice,\n",
        "                     'frais': takerFee * wallet * leverage, 'wallet': wallet, 'drawBack': (wallet-lastAth)/lastAth}\n",
        "            #dt = dt.append(myrow, ignore_index=True)\n",
        "            dt = pd.concat([dt,pd.DataFrame(myrow, index=[0])], ignore_index=True)\n",
        "        \n",
        "        # -- Check If you have to open a SHORT --\n",
        "        if openShortCondition(row, previousRow) == True:\n",
        "            orderInProgress = 'SHORT'\n",
        "            closePrice = row['close']\n",
        "            shortIniPrice = row['close'] - takerFee * row['close']\n",
        "            tokenAmount = (wallet * leverage) / row['close']\n",
        "            shortLiquidationPrice = shortIniPrice + (wallet/tokenAmount)\n",
        "            # -- You can uncomment the line below if you want to see logs --\n",
        "            # print('Open SHORT', closePrice, '$ the', index, '| Liquidation price :', shortLiquidationPrice)\n",
        "\n",
        "            # -- Add the trade to DT to analyse it later --\n",
        "            myrow = {'date': index, 'position': \"Open Short\", 'reason': 'Open Short Market', 'price': closePrice,\n",
        "                     'frais': takerFee * wallet * leverage, 'wallet': wallet, 'drawBack': (wallet-lastAth)/lastAth}\n",
        "            #dt = dt.append(myrow, ignore_index=True)\n",
        "            dt = pd.concat([dt,pd.DataFrame(myrow, index=[0])], ignore_index=True)\n",
        "\n",
        "\n",
        "# -- BackTest Analyses --\n",
        "dt = dt.set_index(dt['date'])\n",
        "dt.index = pd.to_datetime(dt.index)\n",
        "dt['resultat%'] = dt['wallet'].pct_change()*100\n",
        "\n",
        "dt['tradeIs'] = ''\n",
        "dt.loc[dt['resultat%'] > 0, 'tradeIs'] = 'Good'\n",
        "dt.loc[dt['resultat%'] < 0, 'tradeIs'] = 'Bad'\n",
        "\n",
        "iniClose = dfTest.iloc[0]['close']\n",
        "lastClose = dfTest.iloc[len(dfTest)-1]['close']\n",
        "holdPercentage = ((lastClose - iniClose)/iniClose)\n",
        "holdWallet = holdPercentage * leverage * initalWallet\n",
        "algoPercentage = ((wallet - initalWallet)/initalWallet)\n",
        "vsHoldPercentage = ((wallet - holdWallet)/holdWallet) * 100\n",
        "\n",
        "try:\n",
        "    tradesPerformance = round(dt.loc[(dt['tradeIs'] == 'Good') | (dt['tradeIs'] == 'Bad'), 'resultat%'].sum()\n",
        "            / dt.loc[(dt['tradeIs'] == 'Good') | (dt['tradeIs'] == 'Bad'), 'resultat%'].count(), 2)\n",
        "except:\n",
        "    tradesPerformance = 0\n",
        "    print(\"/!\\ There is no Good or Bad Trades in your BackTest, maybe a problem...\")\n",
        "\n",
        "try:\n",
        "    TotalGoodTrades = dt.groupby('tradeIs')['date'].nunique()['Good']\n",
        "    AveragePercentagePositivTrades = round(dt.loc[dt['tradeIs'] == 'Good', 'resultat%'].sum()\n",
        "                                           / dt.loc[dt['tradeIs'] == 'Good', 'resultat%'].count(), 2)\n",
        "    idbest = dt.loc[dt['tradeIs'] == 'Good', 'resultat%'].idxmax()\n",
        "    bestTrade = str(\n",
        "        round(dt.loc[dt['tradeIs'] == 'Good', 'resultat%'].max(), 2))\n",
        "except:\n",
        "    TotalGoodTrades = 0\n",
        "    AveragePercentagePositivTrades = 0\n",
        "    idbest = ''\n",
        "    bestTrade = 0\n",
        "    print(\"/!\\ There is no Good Trades in your BackTest, maybe a problem...\")\n",
        "\n",
        "try:\n",
        "    TotalBadTrades = dt.groupby('tradeIs')['date'].nunique()['Bad']\n",
        "    AveragePercentageNegativTrades = round(dt.loc[dt['tradeIs'] == 'Bad', 'resultat%'].sum()\n",
        "                                           / dt.loc[dt['tradeIs'] == 'Bad', 'resultat%'].count(), 2)\n",
        "    idworst = dt.loc[dt['tradeIs'] == 'Bad', 'resultat%'].idxmin()\n",
        "    worstTrade = round(dt.loc[dt['tradeIs'] == 'Bad', 'resultat%'].min(), 2)\n",
        "except:\n",
        "    TotalBadTrades = 0\n",
        "    AveragePercentageNegativTrades = 0\n",
        "    idworst = ''\n",
        "    worstTrade = 0\n",
        "    print(\"/!\\ There is no Bad Trades in your BackTest, maybe a problem...\")\n",
        "\n",
        "totalTrades = TotalBadTrades + TotalGoodTrades\n",
        "\n",
        "try:\n",
        "    TotalLongTrades = dt.groupby('position')['date'].nunique()['LONG']\n",
        "    AverageLongTrades = round(dt.loc[dt['position'] == 'LONG', 'resultat%'].sum()\n",
        "                              / dt.loc[dt['position'] == 'LONG', 'resultat%'].count(), 2)\n",
        "    idBestLong = dt.loc[dt['position'] == 'LONG', 'resultat%'].idxmax()\n",
        "    bestLongTrade = str(\n",
        "        round(dt.loc[dt['position'] == 'LONG', 'resultat%'].max(), 2))\n",
        "    idWorstLong = dt.loc[dt['position'] == 'LONG', 'resultat%'].idxmin()\n",
        "    worstLongTrade = str(\n",
        "        round(dt.loc[dt['position'] == 'LONG', 'resultat%'].min(), 2))\n",
        "except:\n",
        "    AverageLongTrades = 0\n",
        "    TotalLongTrades = 0\n",
        "    bestLongTrade = ''\n",
        "    idBestLong = ''\n",
        "    idWorstLong = ''\n",
        "    worstLongTrade = ''\n",
        "    print(\"/!\\ There is no LONG Trades in your BackTest, maybe a problem...\")\n",
        "\n",
        "try:\n",
        "    TotalShortTrades = dt.groupby('position')['date'].nunique()['SHORT']\n",
        "    AverageShortTrades = round(dt.loc[dt['position'] == 'SHORT', 'resultat%'].sum()\n",
        "                               / dt.loc[dt['position'] == 'SHORT', 'resultat%'].count(), 2)\n",
        "    idBestShort = dt.loc[dt['position'] == 'SHORT', 'resultat%'].idxmax()\n",
        "    bestShortTrade = str(\n",
        "        round(dt.loc[dt['position'] == 'SHORT', 'resultat%'].max(), 2))\n",
        "    idWorstShort = dt.loc[dt['position'] == 'SHORT', 'resultat%'].idxmin()\n",
        "    worstShortTrade = str(\n",
        "        round(dt.loc[dt['position'] == 'SHORT', 'resultat%'].min(), 2))\n",
        "except:\n",
        "    AverageShortTrades = 0\n",
        "    TotalShortTrades = 0\n",
        "    bestShortTrade = ''\n",
        "    idBestShort = ''\n",
        "    idWorstShort = ''\n",
        "    worstShortTrade = ''\n",
        "    print(\"/!\\ There is no SHORT Trades in your BackTest, maybe a problem...\")\n",
        "\n",
        "try:\n",
        "    totalGoodLongTrade = dt.groupby(['position', 'tradeIs']).size()['LONG']['Good']\n",
        "except:\n",
        "    totalGoodLongTrade = 0\n",
        "    print(\"/!\\ There is no good LONG Trades in your BackTest, maybe a problem...\")\n",
        "\n",
        "try:\n",
        "    totalBadLongTrade = dt.groupby(['position', 'tradeIs']).size()['LONG']['Bad']\n",
        "except:\n",
        "    totalBadLongTrade = 0\n",
        "    print(\"/!\\ There is no bad LONG Trades in your BackTest, maybe a problem...\")\n",
        "\n",
        "try:\n",
        "    totalGoodShortTrade = dt.groupby(['position', 'tradeIs']).size()['SHORT']['Good']\n",
        "except:\n",
        "    totalGoodShortTrade = 0\n",
        "    print(\"/!\\ There is no good SHORT Trades in your BackTest, maybe a problem...\")\n",
        "\n",
        "try:\n",
        "    totalBadShortTrade = dt.groupby(['position', 'tradeIs']).size()['SHORT']['Bad']\n",
        "except:\n",
        "    totalBadShortTrade = 0\n",
        "    print(\"/!\\ There is no bad SHORT Trades in your BackTest, maybe a problem...\")\n",
        "\n",
        "TotalTrades = TotalGoodTrades + TotalBadTrades\n",
        "winRateRatio = (TotalGoodTrades/TotalTrades) * 100\n",
        "\n",
        "reasons = dt['reason'].unique()\n",
        "\n",
        "print(\"BackTest finished, final wallet :\",wallet,\"$\")\n",
        "#dt\n"
      ]
    },
    {
      "cell_type": "markdown",
      "metadata": {
        "id": "jSO-P5zDk-Pl"
      },
      "source": [
        "<h1>Print Complete BackTest Analyses</h1>"
      ]
    },
    {
      "cell_type": "code",
      "execution_count": 38,
      "metadata": {
        "colab": {
          "base_uri": "https://localhost:8080/"
        },
        "id": "nj2MK1PPk-Pn",
        "outputId": "21b2ae70-352d-4e63-ee0a-9ecf236f68ae"
      },
      "outputs": [
        {
          "name": "stdout",
          "output_type": "stream",
          "text": [
            "Pair Symbol : BTC/USDT\n",
            "Period : [2017-08-17 04:00:00] -> [2022-11-07 19:00:00]\n",
            "Starting balance : 1000 $\n",
            "\n",
            "----- General Informations -----\n",
            "Final balance : 1000 $\n",
            "Hold balance : 3810.29 $\n",
            "Performance vs US Dollar : 0.0 %\n",
            "Buy and Hold Performence : 381.03 % | with Leverage : 381.03 %\n",
            "Performance vs Buy and Hold : -73.76 %\n"
          ]
        },
        {
          "ename": "TypeError",
          "evalue": "can only concatenate str (not \"int\") to str",
          "output_type": "error",
          "traceback": [
            "\u001b[0;31m---------------------------------------------------------------------------\u001b[0m",
            "\u001b[0;31mTypeError\u001b[0m                                 Traceback (most recent call last)",
            "\u001b[0;32m/tmp/ipykernel_53173/1217157212.py\u001b[0m in \u001b[0;36m<module>\u001b[0;34m\u001b[0m\n\u001b[1;32m     11\u001b[0m       \"% | with Leverage :\", round(holdPercentage*100, 2)*leverage, \"%\")\n\u001b[1;32m     12\u001b[0m \u001b[0mprint\u001b[0m\u001b[0;34m(\u001b[0m\u001b[0;34m\"Performance vs Buy and Hold :\"\u001b[0m\u001b[0;34m,\u001b[0m \u001b[0mround\u001b[0m\u001b[0;34m(\u001b[0m\u001b[0mvsHoldPercentage\u001b[0m\u001b[0;34m,\u001b[0m \u001b[0;36m2\u001b[0m\u001b[0;34m)\u001b[0m\u001b[0;34m,\u001b[0m \u001b[0;34m\"%\"\u001b[0m\u001b[0;34m)\u001b[0m\u001b[0;34m\u001b[0m\u001b[0;34m\u001b[0m\u001b[0m\n\u001b[0;32m---> 13\u001b[0;31m \u001b[0mprint\u001b[0m\u001b[0;34m(\u001b[0m\u001b[0;34m\"Best trade : +\"\u001b[0m\u001b[0;34m+\u001b[0m\u001b[0mbestTrade\u001b[0m\u001b[0;34m,\u001b[0m \u001b[0;34m\"%, the \"\u001b[0m\u001b[0;34m,\u001b[0m \u001b[0midbest\u001b[0m\u001b[0;34m)\u001b[0m\u001b[0;34m\u001b[0m\u001b[0;34m\u001b[0m\u001b[0m\n\u001b[0m\u001b[1;32m     14\u001b[0m \u001b[0mprint\u001b[0m\u001b[0;34m(\u001b[0m\u001b[0;34m\"Worst trade :\"\u001b[0m\u001b[0;34m,\u001b[0m \u001b[0mworstTrade\u001b[0m\u001b[0;34m,\u001b[0m \u001b[0;34m\"%, the \"\u001b[0m\u001b[0;34m,\u001b[0m \u001b[0midworst\u001b[0m\u001b[0;34m)\u001b[0m\u001b[0;34m\u001b[0m\u001b[0;34m\u001b[0m\u001b[0m\n\u001b[1;32m     15\u001b[0m \u001b[0mprint\u001b[0m\u001b[0;34m(\u001b[0m\u001b[0;34m\"Worst drawBack :\"\u001b[0m\u001b[0;34m,\u001b[0m \u001b[0mstr\u001b[0m\u001b[0;34m(\u001b[0m\u001b[0;36m100\u001b[0m\u001b[0;34m*\u001b[0m\u001b[0mround\u001b[0m\u001b[0;34m(\u001b[0m\u001b[0mdt\u001b[0m\u001b[0;34m[\u001b[0m\u001b[0;34m'drawBack'\u001b[0m\u001b[0;34m]\u001b[0m\u001b[0;34m.\u001b[0m\u001b[0mmin\u001b[0m\u001b[0;34m(\u001b[0m\u001b[0;34m)\u001b[0m\u001b[0;34m,\u001b[0m \u001b[0;36m2\u001b[0m\u001b[0;34m)\u001b[0m\u001b[0;34m)\u001b[0m\u001b[0;34m,\u001b[0m \u001b[0;34m\"%\"\u001b[0m\u001b[0;34m)\u001b[0m\u001b[0;34m\u001b[0m\u001b[0;34m\u001b[0m\u001b[0m\n",
            "\u001b[0;31mTypeError\u001b[0m: can only concatenate str (not \"int\") to str"
          ]
        }
      ],
      "source": [
        "print(\"Pair Symbol :\",\"BTC/USDT\",)\n",
        "print(\"Period : [\" + str(dfTest.index[0]) + \"] -> [\" +\n",
        "      str(dfTest.index[len(dfTest)-1]) + \"]\")\n",
        "print(\"Starting balance :\", initalWallet, \"$\")\n",
        "\n",
        "print(\"\\n----- General Informations -----\")\n",
        "print(\"Final balance :\", round(wallet, 2), \"$\")\n",
        "print(\"Hold balance :\", round(holdWallet, 2), \"$\")\n",
        "print(\"Performance vs US Dollar :\", round(algoPercentage*100, 2), \"%\")\n",
        "print(\"Buy and Hold Performence :\", round(holdPercentage*100, 2),\n",
        "      \"% | with Leverage :\", round(holdPercentage*100, 2)*leverage, \"%\")\n",
        "print(\"Performance vs Buy and Hold :\", round(vsHoldPercentage, 2), \"%\")\n",
        "print(\"Best trade : +\"+bestTrade, \"%, the \", idbest)\n",
        "print(\"Worst trade :\", worstTrade, \"%, the \", idworst)\n",
        "print(\"Worst drawBack :\", str(100*round(dt['drawBack'].min(), 2)), \"%\")\n",
        "print(\"Total fees : \", round(dt['frais'].sum(), 2), \"$\")\n",
        "\n",
        "print(\"\\n----- Trades Informations -----\")\n",
        "print(\"Total trades on period :\",totalTrades)\n",
        "print(\"Number of positive trades :\", TotalGoodTrades)\n",
        "print(\"Number of negative trades : \", TotalBadTrades)\n",
        "print(\"Trades win rate ratio :\", round(winRateRatio, 2), '%')\n",
        "print(\"Average trades performance :\",tradesPerformance,\"%\")\n",
        "print(\"Average positive trades :\", AveragePercentagePositivTrades, \"%\")\n",
        "print(\"Average negative trades :\", AveragePercentageNegativTrades, \"%\")\n",
        "\n",
        "print(\"\\n----- LONG Trades Informations -----\")\n",
        "print(\"Number of LONG trades :\",TotalLongTrades)\n",
        "print(\"Average LONG trades performance :\",AverageLongTrades, \"%\")\n",
        "print(\"Best  LONG trade +\"+bestLongTrade, \"%, the \", idBestLong)\n",
        "print(\"Worst LONG trade\", worstLongTrade, \"%, the \", idWorstLong)\n",
        "print(\"Number of positive LONG trades :\",totalGoodLongTrade)\n",
        "print(\"Number of negative LONG trades :\",totalBadLongTrade)\n",
        "print(\"LONG trade win rate ratio :\", round(totalGoodLongTrade/TotalLongTrades*100, 2), '%')\n",
        "\n",
        "print(\"\\n----- SHORT Trades Informations -----\")\n",
        "print(\"Number of SHORT trades :\",TotalShortTrades)\n",
        "print(\"Average SHORT trades performance :\",AverageShortTrades, \"%\")\n",
        "print(\"Best  SHORT trade +\"+bestShortTrade, \"%, the \", idBestShort)\n",
        "print(\"Worst SHORT trade\", worstShortTrade, \"%, the \", idWorstShort)\n",
        "print(\"Number of positive SHORT trades :\",totalGoodShortTrade)\n",
        "print(\"Number of negative SHORT trades :\",totalBadShortTrade)\n",
        "print(\"SHORT trade win rate ratio :\", round(totalGoodShortTrade/TotalShortTrades*100, 2), '%')\n",
        "\n",
        "print(\"\\n----- Trades Reasons -----\")\n",
        "reasons = dt['reason'].unique()\n",
        "for r in reasons:\n",
        "    print(r+\" number :\", dt.groupby('reason')['date'].nunique()[r])"
      ]
    },
    {
      "cell_type": "markdown",
      "metadata": {
        "id": "U3WYP8irk-Po"
      },
      "source": [
        "<h1>Plot to improve ...</h1>"
      ]
    },
    {
      "cell_type": "code",
      "execution_count": null,
      "metadata": {
        "colab": {
          "base_uri": "https://localhost:8080/",
          "height": 605
        },
        "id": "biPtfHJMk-Po",
        "outputId": "8505db8b-6192-41b7-a823-bcc182c1fd95"
      },
      "outputs": [],
      "source": [
        "dt[['wallet', 'price']].plot(subplots=True, figsize=(20, 10))\n",
        "print(\"\\n----- Plot -----\")"
      ]
    }
  ],
  "metadata": {
    "colab": {
      "include_colab_link": true,
      "name": "Complete Future Backtest.ipynb",
      "provenance": []
    },
    "kernelspec": {
      "display_name": "Python 3.10.6 64-bit",
      "language": "python",
      "name": "python3"
    },
    "language_info": {
      "codemirror_mode": {
        "name": "ipython",
        "version": 3
      },
      "file_extension": ".py",
      "mimetype": "text/x-python",
      "name": "python",
      "nbconvert_exporter": "python",
      "pygments_lexer": "ipython3",
      "version": "3.10.6"
    },
    "orig_nbformat": 4,
    "vscode": {
      "interpreter": {
        "hash": "e7370f93d1d0cde622a1f8e1c04877d8463912d04d973331ad4851f04de6915a"
      }
    }
  },
  "nbformat": 4,
  "nbformat_minor": 0
}
