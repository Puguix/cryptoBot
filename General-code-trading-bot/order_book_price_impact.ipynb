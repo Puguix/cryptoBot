{
  "nbformat": 4,
  "nbformat_minor": 0,
  "metadata": {
    "colab": {
      "name": "order_book.ipynb",
      "provenance": [],
      "authorship_tag": "ABX9TyMRQJ6NCT6+2REnaT9bCsxs",
      "include_colab_link": true
    },
    "kernelspec": {
      "name": "python3",
      "display_name": "Python 3"
    },
    "language_info": {
      "name": "python"
    }
  },
  "cells": [
    {
      "cell_type": "markdown",
      "metadata": {
        "id": "view-in-github",
        "colab_type": "text"
      },
      "source": [
        "<a href=\"https://colab.research.google.com/github/CryptoRobotFr/General-code-trading-bot/blob/main/order_book_price_impact.ipynb\" target=\"_parent\"><img src=\"https://colab.research.google.com/assets/colab-badge.svg\" alt=\"Open In Colab\"/></a>"
      ]
    },
    {
      "cell_type": "code",
      "execution_count": null,
      "metadata": {
        "id": "EVjdNTMNkNd7"
      },
      "outputs": [],
      "source": [
        "!pip install ccxt"
      ]
    },
    {
      "cell_type": "code",
      "source": [
        "import ccxt\n",
        "import pandas as pd\n",
        "\n",
        "def get_spread_from_order_book(exchange, symbol, usd_amount, show_order=False):\n",
        "    df_bid = pd.DataFrame(exchange.fetch_order_book(symbol, 5000)['bids'], columns=['price', 'quantity'])\n",
        "    df_ask = pd.DataFrame(exchange.fetch_order_book(symbol, 5000)['asks'], columns=['price', 'quantity'])\n",
        "    df_bid['usd_quantity'] = df_bid['price'] *  df_bid['quantity']\n",
        "    df_ask['usd_quantity'] = df_ask['price'] *  df_ask['quantity']\n",
        "\n",
        "    i = 0\n",
        " \n",
        "    for j in range(0,2,1):\n",
        "        try: \n",
        "            operations_array = []\n",
        "            usd_spent = 0\n",
        "            if j == 0:\n",
        "                df = df_ask.copy()\n",
        "                # print(df)\n",
        "            else:\n",
        "                df = df_bid.copy()  \n",
        "                # print(df)\n",
        "            while(usd_spent < usd_amount):\n",
        "                if df.iloc[i]['usd_quantity'] > usd_amount - usd_spent:\n",
        "                    operations_array.append({\"amount\":usd_amount - usd_spent, \"price\":df.iloc[i]['price']})\n",
        "                    usd_spent += (usd_amount - usd_spent)\n",
        "                else: \n",
        "                    operations_array.append({\"amount\":df.iloc[i]['usd_quantity'], \"price\":df.iloc[i]['price']})\n",
        "                    usd_spent += df.iloc[i]['usd_quantity']\n",
        "                i += 1\n",
        "                \n",
        "            dt = pd.DataFrame(operations_array)\n",
        "            dt['sum'] = dt['amount'] * dt['price']\n",
        "            mean_price = dt['sum'].sum() / dt['amount'].sum()\n",
        "            mid_bid_ask_price = (df_bid.iloc[0][\"price\"]+df_ask.iloc[0][\"price\"])/2\n",
        "            diff_spread = abs(mid_bid_ask_price - mean_price) / mean_price\n",
        "            spread_fee = usd_amount * diff_spread\n",
        "            del dt['sum']\n",
        "            if j == 0:\n",
        "                print(\"||| Mid Bid Ask Price :\",mid_bid_ask_price,\"$ |||\")\n",
        "                print(\"\\n------------ BUY ------------\")\n",
        "            else:\n",
        "                print(\"\\n------------ SELL ------------\")\n",
        "            \n",
        "            print(\"||| Mean Operation Price  =\",mean_price,\"$ |||\")\n",
        "            # print(\"||| Mid Bid Ask Price =\", mid_bid_ask_price,\"$ |||\")\n",
        "            print(\"||| Spread Differance =\", round(diff_spread*100,4),\"% |||\")\n",
        "            print(\"||| Spread Fees =\", round(spread_fee,2),\"$ |||\")\n",
        "            if show_order:\n",
        "                print(\"-\"*30)\n",
        "                print(\"--- Operation array ---\")\n",
        "                print(dt.to_string(index=False))\n",
        "        except:\n",
        "            print(\"Error, you have used all orders possible in the\",len(df),\"first orders of orderbook | Last one was at\",df.iloc[-1]['price'],\"$\")\n",
        "\n",
        "\n"
      ],
      "metadata": {
        "id": "4LkBKNEKkTkz"
      },
      "execution_count": null,
      "outputs": []
    },
    {
      "cell_type": "code",
      "source": [
        "exchange = ccxt.ftx()\n",
        "get_spread_from_order_book(\n",
        "    exchange = exchange,\n",
        "    symbol = \"MKR/USD\", \n",
        "    usd_amount = 10000,\n",
        "    show_order = False\n",
        ")"
      ],
      "metadata": {
        "colab": {
          "base_uri": "https://localhost:8080/"
        },
        "id": "G-v-fryPkdiH",
        "outputId": "08469741-745f-47c2-8025-b86792634104"
      },
      "execution_count": null,
      "outputs": [
        {
          "output_type": "stream",
          "name": "stdout",
          "text": [
            "||| Mid Bid Ask Price : 2218.0 $ |||\n",
            "\n",
            "------------ BUY ------------\n",
            "||| Mean Operation Price  = 2220.7020261750004 $ |||\n",
            "||| Spread Differance = 0.1217 % |||\n",
            "||| Spread Fees = 12.17 $ |||\n",
            "\n",
            "------------ SELL ------------\n",
            "||| Mean Operation Price  = 2213.29427555 $ |||\n",
            "||| Spread Differance = 0.2126 % |||\n",
            "||| Spread Fees = 21.26 $ |||\n"
          ]
        }
      ]
    },
    {
      "cell_type": "code",
      "source": [
        "exchange = ccxt.ftx()\n",
        "get_spread_from_order_book(\n",
        "    exchange = exchange,\n",
        "    symbol = \"ETH/USDT\", \n",
        "    usd_amount = 500000,\n",
        "    show_order = False\n",
        ")"
      ],
      "metadata": {
        "colab": {
          "base_uri": "https://localhost:8080/"
        },
        "id": "5B4SyzVlvFgO",
        "outputId": "c2ad076b-c802-4009-b250-e556c182798c"
      },
      "execution_count": null,
      "outputs": [
        {
          "output_type": "stream",
          "name": "stdout",
          "text": [
            "||| Mid Bid Ask Price : 3193.3500000000004 $ |||\n",
            "\n",
            "------------ BUY ------------\n",
            "||| Mean Operation Price  = 3195.2467621259993 $ |||\n",
            "||| Spread Differance = 0.0594 % |||\n",
            "||| Spread Fees = 296.81 $ |||\n",
            "\n",
            "------------ SELL ------------\n",
            "||| Mean Operation Price  = 3182.89420074436 $ |||\n",
            "||| Spread Differance = 0.3285 % |||\n",
            "||| Spread Fees = 1642.5 $ |||\n"
          ]
        }
      ]
    }
  ]
}